{
 "cells": [
  {
   "cell_type": "markdown",
   "id": "b92af0e4-cfcb-4a8c-96d6-9070eb0292b8",
   "metadata": {},
   "source": [
    "# Package Manager"
   ]
  },
  {
   "cell_type": "code",
   "execution_count": 5,
   "id": "8cbc71a6-e33c-407d-b683-055719525d41",
   "metadata": {},
   "outputs": [
    {
     "name": "stdout",
     "output_type": "stream",
     "text": [
      "Asia/Kolkata\n",
      "2024-04-19 19:38:21.819542+05:30\n"
     ]
    }
   ],
   "source": [
    "from datetime import datetime\n",
    "import pytz\n",
    "\n",
    "utc = pytz.utc\n",
    "ist = pytz.timezone(\"Asia/Kolkata\")\n",
    "\n",
    "now = datetime.now(tz=utc)\n",
    "ist_now = now.astimezone(ist)\n",
    "\n",
    "print(ist)\n",
    "print(ist_now)"
   ]
  },
  {
   "cell_type": "code",
   "execution_count": null,
   "id": "34751226-a463-406d-b575-ef6c2388136d",
   "metadata": {},
   "outputs": [],
   "source": []
  },
  {
   "cell_type": "code",
   "execution_count": null,
   "id": "6f232cf0-b4ac-4097-a866-60afced6eea2",
   "metadata": {},
   "outputs": [],
   "source": []
  }
 ],
 "metadata": {
  "kernelspec": {
   "display_name": "example",
   "language": "python",
   "name": "example"
  },
  "language_info": {
   "codemirror_mode": {
    "name": "ipython",
    "version": 3
   },
   "file_extension": ".py",
   "mimetype": "text/x-python",
   "name": "python",
   "nbconvert_exporter": "python",
   "pygments_lexer": "ipython3",
   "version": "3.12.2"
  }
 },
 "nbformat": 4,
 "nbformat_minor": 5
}
