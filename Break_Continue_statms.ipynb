{
 "cells": [
  {
   "cell_type": "markdown",
   "id": "f11beb36-c1ac-44fa-95ed-48a484c476bb",
   "metadata": {},
   "source": [
    "# Break\n",
    "## Terminates a for or while loop."
   ]
  },
  {
   "cell_type": "code",
   "execution_count": 9,
   "id": "2c3b86bf-3b87-4d7b-8c6e-4a54ec5b5dd2",
   "metadata": {},
   "outputs": [
    {
     "name": "stdout",
     "output_type": "stream",
     "text": [
      "211\n",
      "['bananas', 'matt', 'dog kennels', 'machine']\n"
     ]
    }
   ],
   "source": [
    "manifest = [('bananas', 15), ('matt', 34), ('dog kennels', 42), ('machine', 120), ('chesses', 5)]\n",
    "weight = 0\n",
    "items = []\n",
    "for cargo in manifest:\n",
    "    if weight > 100:\n",
    "        break\n",
    "    else:\n",
    "        items.append(cargo[0])\n",
    "        weight += cargo[1]\n",
    "print(weight)\n",
    "print(items)"
   ]
  },
  {
   "cell_type": "markdown",
   "id": "06a99069-22b7-4e4e-8acd-f727c9b173ea",
   "metadata": {},
   "source": [
    "# Continue\n",
    "## Terminates one iteration of a for or while loop."
   ]
  },
  {
   "cell_type": "code",
   "execution_count": 19,
   "id": "92b6b80e-d9ee-4574-8014-8b7da22ef282",
   "metadata": {},
   "outputs": [
    {
     "name": "stdout",
     "output_type": "stream",
     "text": [
      "Found a Fruit!\n",
      "Found a Fruit!\n",
      "Not a Fruit!\n",
      "Not a Fruit!\n",
      "Total Fruits:  2\n"
     ]
    }
   ],
   "source": [
    "fruit = ['orange', 'strawberry', 'apple']\n",
    "foods = ['apple', 'strawberry', 'hummus', 'toast']\n",
    "\n",
    "fruit_count = 0\n",
    "for food in foods:\n",
    "    if food not in fruit:\n",
    "        print('Not a Fruit!')\n",
    "        continue\n",
    "    fruit_count += 1\n",
    "    print('Found a Fruit!')\n",
    "print('Total Fruits: ', fruit_count)"
   ]
  }
 ],
 "metadata": {
  "kernelspec": {
   "display_name": "example",
   "language": "python",
   "name": "example"
  },
  "language_info": {
   "codemirror_mode": {
    "name": "ipython",
    "version": 3
   },
   "file_extension": ".py",
   "mimetype": "text/x-python",
   "name": "python",
   "nbconvert_exporter": "python",
   "pygments_lexer": "ipython3",
   "version": "3.12.2"
  }
 },
 "nbformat": 4,
 "nbformat_minor": 5
}
