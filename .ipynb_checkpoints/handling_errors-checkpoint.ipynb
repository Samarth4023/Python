{
 "cells": [
  {
   "cell_type": "markdown",
   "id": "82086f49-917f-43a2-87ee-7b40c07db477",
   "metadata": {},
   "source": [
    "# Try statement"
   ]
  },
  {
   "cell_type": "code",
   "execution_count": 1,
   "id": "50d8b570-13f4-4d58-985d-5117d1a49e3e",
   "metadata": {},
   "outputs": [
    {
     "name": "stdin",
     "output_type": "stream",
     "text": [
      "Enter your Number:  ten\n"
     ]
    },
    {
     "name": "stdout",
     "output_type": "stream",
     "text": [
      "That's not a valid Number !\n"
     ]
    }
   ],
   "source": [
    "try:\n",
    "    x = int(input(\"Enter your Number: \"))\n",
    "except:\n",
    "    print(\"That's not a valid Number !\")"
   ]
  },
  {
   "cell_type": "markdown",
   "id": "044ba783-7105-440c-9658-b8bcc0934546",
   "metadata": {},
   "source": [
    "# Try statement with while loop"
   ]
  },
  {
   "cell_type": "code",
   "execution_count": 5,
   "id": "d691317d-8533-4aad-b7cd-54c11e9d7d0b",
   "metadata": {},
   "outputs": [
    {
     "name": "stdin",
     "output_type": "stream",
     "text": [
      "Enter your Number:  ten\n"
     ]
    },
    {
     "name": "stdout",
     "output_type": "stream",
     "text": [
      "That's not a valid Number !\n",
      "Attempted Input !\n"
     ]
    },
    {
     "name": "stdin",
     "output_type": "stream",
     "text": [
      "Enter your Number:  hello\n"
     ]
    },
    {
     "name": "stdout",
     "output_type": "stream",
     "text": [
      "That's not a valid Number !\n",
      "Attempted Input !\n"
     ]
    },
    {
     "name": "stdin",
     "output_type": "stream",
     "text": [
      "Enter your Number:  10\n"
     ]
    }
   ],
   "source": [
    "while True:\n",
    "    try:\n",
    "        x = int(input(\"Enter your Number: \"))\n",
    "        break\n",
    "    except:\n",
    "        print(\"That's not a valid Number !\")\n",
    "    print(\"Attempted Input !\")"
   ]
  },
  {
   "cell_type": "markdown",
   "id": "629a44f4-c415-42cc-a82e-75a2b3b7f787",
   "metadata": {},
   "source": [
    "# finally block"
   ]
  },
  {
   "cell_type": "code",
   "execution_count": 6,
   "id": "9330c867-68b4-47fa-88ff-3021735853f4",
   "metadata": {},
   "outputs": [
    {
     "name": "stdin",
     "output_type": "stream",
     "text": [
      "Enter your Number:  ten\n"
     ]
    },
    {
     "name": "stdout",
     "output_type": "stream",
     "text": [
      "That's not a valid Number !\n",
      "Attempted Input !\n"
     ]
    },
    {
     "name": "stdin",
     "output_type": "stream",
     "text": [
      "Enter your Number:  hello\n"
     ]
    },
    {
     "name": "stdout",
     "output_type": "stream",
     "text": [
      "That's not a valid Number !\n",
      "Attempted Input !\n"
     ]
    },
    {
     "name": "stdin",
     "output_type": "stream",
     "text": [
      "Enter your Number:  10\n"
     ]
    },
    {
     "name": "stdout",
     "output_type": "stream",
     "text": [
      "Attempted Input !\n"
     ]
    }
   ],
   "source": [
    "while True:\n",
    "    try:\n",
    "        x = int(input(\"Enter your Number: \"))\n",
    "        break\n",
    "    except:\n",
    "        print(\"That's not a valid Number !\")\n",
    "    finally:\n",
    "        print(\"Attempted Input !\")"
   ]
  },
  {
   "cell_type": "markdown",
   "id": "643cb1fd-2ed1-4b99-ad7e-95b00821444d",
   "metadata": {},
   "source": [
    "# adjust particular exception"
   ]
  },
  {
   "cell_type": "code",
   "execution_count": 17,
   "id": "8cdd36d6-1224-4a33-b287-bead55e0f8e1",
   "metadata": {},
   "outputs": [
    {
     "name": "stdin",
     "output_type": "stream",
     "text": [
      "Enter your Number:  hello\n"
     ]
    },
    {
     "name": "stdout",
     "output_type": "stream",
     "text": [
      "That's not a valid Number !\n",
      "Attempted Input !\n"
     ]
    },
    {
     "name": "stdin",
     "output_type": "stream",
     "text": [
      "Enter your Number:  ,.\n"
     ]
    },
    {
     "name": "stdout",
     "output_type": "stream",
     "text": [
      "That's not a valid Number !\n",
      "Attempted Input !\n"
     ]
    },
    {
     "name": "stdin",
     "output_type": "stream",
     "text": [
      "Enter your Number:  10\n"
     ]
    },
    {
     "name": "stdout",
     "output_type": "stream",
     "text": [
      "Attempted Input !\n"
     ]
    }
   ],
   "source": [
    "while True:\n",
    "    try:\n",
    "        x = int(input(\"Enter your Number: \"))\n",
    "        break\n",
    "    except (ValueError, KeyboardInterrupt):\n",
    "        print(\"That's not a valid Number !\")\n",
    "    #except ValueError:\n",
    "        #print(\"That's not a valid Number !\")\n",
    "    #except KeyboardInterrupt:\n",
    "        #print(\"zzzz !\")\n",
    "        #break\n",
    "    finally:\n",
    "        print(\"Attempted Input !\")"
   ]
  },
  {
   "cell_type": "markdown",
   "id": "89028495-9d84-428b-a66a-97cc74faee20",
   "metadata": {},
   "source": [
    "# Practice Quiz \n",
    "## try n except"
   ]
  },
  {
   "cell_type": "code",
   "execution_count": 33,
   "id": "283bead1-bc54-4720-80c9-1fb87e7bd5a2",
   "metadata": {},
   "outputs": [
    {
     "name": "stdin",
     "output_type": "stream",
     "text": [
      "How many cookies are you baking?  8\n",
      "How many people are attending?  0\n"
     ]
    },
    {
     "name": "stdout",
     "output_type": "stream",
     "text": [
      "Warning! Please input a different number of people.\n"
     ]
    },
    {
     "name": "stdin",
     "output_type": "stream",
     "text": [
      "\n",
      "Would you like to party more? (y or n)  n\n"
     ]
    }
   ],
   "source": [
    "def party_planner(cookies, people):\n",
    "    leftovers = None\n",
    "    num_each = None\n",
    "    # TODO: Add a try-except block here to\n",
    "    try:\n",
    "        num_each = cookies // people\n",
    "        leftovers = cookies % people\n",
    "    except ZeroDivisionError:\n",
    "        print(\"Warning! Please input a different number of people.\")\n",
    "    \n",
    "    return(num_each, leftovers)\n",
    "\n",
    "# The main code block is below; do not edit this\n",
    "lets_party = 'y'\n",
    "while lets_party == 'y':\n",
    "    \n",
    "    cookies = int(input(\"How many cookies are you baking? \"))\n",
    "    people = int(input(\"How many people are attending? \"))\n",
    "   \n",
    "    cookies_each, leftovers = party_planner(cookies, people)\n",
    "\n",
    "    if cookies_each:  # if cookies_each is not None\n",
    "        message = \"\\nLet's party! We'll have {} people attending, they'll each get to eat {} cookies, and we'll have {} left over.\"\n",
    "        print(message.format(people, cookies_each, leftovers))\n",
    "\n",
    "    lets_party = input(\"\\nWould you like to party more? (y or n) \")"
   ]
  },
  {
   "cell_type": "code",
   "execution_count": null,
   "id": "a69a9d33-5e1c-4caf-a5f1-45db97c979b4",
   "metadata": {},
   "outputs": [],
   "source": []
  }
 ],
 "metadata": {
  "kernelspec": {
   "display_name": "example",
   "language": "python",
   "name": "example"
  },
  "language_info": {
   "codemirror_mode": {
    "name": "ipython",
    "version": 3
   },
   "file_extension": ".py",
   "mimetype": "text/x-python",
   "name": "python",
   "nbconvert_exporter": "python",
   "pygments_lexer": "ipython3",
   "version": "3.12.2"
  }
 },
 "nbformat": 4,
 "nbformat_minor": 5
}
