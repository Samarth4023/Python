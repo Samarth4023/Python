{
 "cells": [
  {
   "cell_type": "markdown",
   "id": "cb31cd11-0be3-4e27-8ad0-89eeb5f61ffb",
   "metadata": {},
   "source": [
    "### In this challenge, the user enters a string and a substring. You have to print the number of times that the substring occurs in the given string. String traversal will take place from left to right, not from right to left.\n",
    "## NOTE: String letters are case-sensitive.\n",
    "### Input Format\n",
    "### The first line of input contains the original string. The next line contains the substring."
   ]
  },
  {
   "cell_type": "code",
   "execution_count": 2,
   "id": "aafdc223-d6bb-478d-95c6-55630198be59",
   "metadata": {},
   "outputs": [
    {
     "name": "stdin",
     "output_type": "stream",
     "text": [
      " ADGSHDADAD\n",
      " DAD\n"
     ]
    },
    {
     "name": "stdout",
     "output_type": "stream",
     "text": [
      "2\n"
     ]
    }
   ],
   "source": [
    "def count_substring(string, sub_string):\n",
    "    count = 0  # Initialize a counter to keep track of the number of occurrences\n",
    "    start = 0  # Initialize the starting index for searching\n",
    "    \n",
    "    while True:  # Start an infinite loop\n",
    "        start = string.find(sub_string, start)  # Find the first occurrence of sub_string in string starting from index 'start'\n",
    "        \n",
    "        if start == -1:  # If no occurrence is found, exit the loop\n",
    "            break\n",
    "        \n",
    "        count += 1  # Increment the count for each occurrence found\n",
    "        start += 1  # Move to the next character after the current match\n",
    "    \n",
    "    return count  # Return the total count of occurrences\n",
    "\n",
    "if __name__ == '__main__':\n",
    "    string = input().strip()  # Input the main string\n",
    "    sub_string = input().strip()  # Input the substring to search\n",
    "    \n",
    "    count = count_substring(string, sub_string)  # Call the function to count occurrences\n",
    "    print(count)  # Print the result"
   ]
  }
 ],
 "metadata": {
  "kernelspec": {
   "display_name": "example",
   "language": "python",
   "name": "example"
  },
  "language_info": {
   "codemirror_mode": {
    "name": "ipython",
    "version": 3
   },
   "file_extension": ".py",
   "mimetype": "text/x-python",
   "name": "python",
   "nbconvert_exporter": "python",
   "pygments_lexer": "ipython3",
   "version": "3.12.2"
  }
 },
 "nbformat": 4,
 "nbformat_minor": 5
}
