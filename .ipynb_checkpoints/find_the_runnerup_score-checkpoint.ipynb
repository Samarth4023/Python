{
 "cells": [
  {
   "cell_type": "code",
   "execution_count": null,
   "id": "36ffbcdf-d0cb-4486-b077-423420e954a1",
   "metadata": {},
   "outputs": [],
   "source": [
    "# Given the participants' score sheet for your University Sports Day, you are required to find the runner-up score. You are given n scores. Store them in a list and find the score of the runner-up.\n",
    "\n",
    "def find_runner_up_score():\n",
    "    n = int(input())  # Read the number of participants\n",
    "    scores = list(map(int, input().split()))  # Read the scores into a list\n",
    "\n",
    "    # Find the maximum score\n",
    "    max_score = max(scores)\n",
    "    \n",
    "    # Remove all occurrences of the maximum score\n",
    "    while max_score in scores:\n",
    "        scores.remove(max_score)\n",
    "    \n",
    "    # The runner-up score is now the maximum of the remaining scores\n",
    "    runner_up_score = max(scores)\n",
    "    \n",
    "    print(runner_up_score)\n",
    "\n",
    "# Call the function\n",
    "find_runner_up_score()"
   ]
  }
 ],
 "metadata": {
  "kernelspec": {
   "display_name": "example",
   "language": "python",
   "name": "example"
  },
  "language_info": {
   "codemirror_mode": {
    "name": "ipython",
    "version": 3
   },
   "file_extension": ".py",
   "mimetype": "text/x-python",
   "name": "python",
   "nbconvert_exporter": "python",
   "pygments_lexer": "ipython3",
   "version": "3.12.2"
  }
 },
 "nbformat": 4,
 "nbformat_minor": 5
}
