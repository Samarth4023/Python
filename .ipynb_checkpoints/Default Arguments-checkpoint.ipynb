{
 "cells": [
  {
   "cell_type": "markdown",
   "id": "2d2ca52f-eba3-4e1d-9014-26206fea75f7",
   "metadata": {},
   "source": [
    "# Task\n",
    "The task is to debug the existing code to successfully execute all provided test files.\n",
    "\r\n",
    "Python supports a useful concept of default argument values. For each keyword argument of a function, we can assign a default value which is going to be used as the value of said argument if the function is called without i\n",
    "wing signature:\r\n",
    "\r\n",
    "def print_from_stream(n, stream)\r\n",
    "This function shounld print the first  values returned by get_next() method of stream object provided as an argument. Each of these values should be printed in a separate line.\r\n",
    "\r\n",
    "Whenever the function is called without the stream argument, it should use an instance of EvenStream class defined in the code stubs below as e locked template code."
   ]
  },
  {
   "cell_type": "code",
   "execution_count": 2,
   "id": "086d1e25-50e4-4138-9a9a-eed476b7a7ba",
   "metadata": {},
   "outputs": [
    {
     "name": "stdin",
     "output_type": "stream",
     "text": [
      " 3\n",
      " odd 3\n"
     ]
    },
    {
     "name": "stdout",
     "output_type": "stream",
     "text": [
      "1\n",
      "3\n",
      "5\n"
     ]
    },
    {
     "name": "stdin",
     "output_type": "stream",
     "text": [
      " even 4\n"
     ]
    },
    {
     "name": "stdout",
     "output_type": "stream",
     "text": [
      "0\n",
      "2\n",
      "4\n",
      "6\n"
     ]
    },
    {
     "name": "stdin",
     "output_type": "stream",
     "text": [
      " odd 2\n"
     ]
    },
    {
     "name": "stdout",
     "output_type": "stream",
     "text": [
      "1\n",
      "3\n"
     ]
    }
   ],
   "source": [
    "class EvenStream(object):\n",
    "    def __init__(self):\n",
    "        self.current = 0\n",
    "\n",
    "    def get_next(self):\n",
    "        to_return = self.current\n",
    "        self.current += 2\n",
    "        return to_return\n",
    "\n",
    "class OddStream(object):\n",
    "    def __init__(self):\n",
    "        self.current = 1\n",
    "\n",
    "    def get_next(self):\n",
    "        to_return = self.current\n",
    "        self.current += 2\n",
    "        return to_return\n",
    "\n",
    "def print_from_stream(n, stream=None):\n",
    "    if stream is None:\n",
    "        stream = EvenStream()\n",
    "    for _ in range(n):\n",
    "        print(stream.get_next())\n",
    "\n",
    "\n",
    "queries = int(input())\n",
    "for _ in range(queries):\n",
    "    stream_name, n = input().split()\n",
    "    n = int(n)\n",
    "    if stream_name == \"even\":\n",
    "        print_from_stream(n)\n",
    "    else:\n",
    "        print_from_stream(n, OddStream())\n"
   ]
  }
 ],
 "metadata": {
  "kernelspec": {
   "display_name": "example",
   "language": "python",
   "name": "example"
  },
  "language_info": {
   "codemirror_mode": {
    "name": "ipython",
    "version": 3
   },
   "file_extension": ".py",
   "mimetype": "text/x-python",
   "name": "python",
   "nbconvert_exporter": "python",
   "pygments_lexer": "ipython3",
   "version": "3.12.2"
  }
 },
 "nbformat": 4,
 "nbformat_minor": 5
}
