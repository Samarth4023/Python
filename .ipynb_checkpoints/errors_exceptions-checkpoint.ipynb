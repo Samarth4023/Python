{
 "cells": [
  {
   "cell_type": "markdown",
   "id": "a33523db-2552-49c6-8043-e6f7e45cac2b",
   "metadata": {},
   "source": [
    "# ValueError Exception"
   ]
  },
  {
   "cell_type": "code",
   "execution_count": 2,
   "id": "b51e1215-371d-414b-a82f-ecbb6fc69d6f",
   "metadata": {},
   "outputs": [
    {
     "name": "stdin",
     "output_type": "stream",
     "text": [
      "Enter a Number:  ten\n"
     ]
    },
    {
     "ename": "ValueError",
     "evalue": "invalid literal for int() with base 10: 'ten'",
     "output_type": "error",
     "traceback": [
      "\u001b[1;31m---------------------------------------------------------------------------\u001b[0m",
      "\u001b[1;31mValueError\u001b[0m                                Traceback (most recent call last)",
      "Cell \u001b[1;32mIn[2], line 1\u001b[0m\n\u001b[1;32m----> 1\u001b[0m x \u001b[38;5;241m=\u001b[39m \u001b[38;5;28mint\u001b[39m(\u001b[38;5;28minput\u001b[39m(\u001b[38;5;124m\"\u001b[39m\u001b[38;5;124mEnter a Number: \u001b[39m\u001b[38;5;124m\"\u001b[39m))\n\u001b[0;32m      2\u001b[0m x \u001b[38;5;241m+\u001b[39m\u001b[38;5;241m=\u001b[39m \u001b[38;5;241m20\u001b[39m\n\u001b[0;32m      3\u001b[0m \u001b[38;5;28mprint\u001b[39m(x)\n",
      "\u001b[1;31mValueError\u001b[0m: invalid literal for int() with base 10: 'ten'"
     ]
    }
   ],
   "source": [
    "x = int(input(\"Enter a Number: \"))\n",
    "x += 20\n",
    "print(x)"
   ]
  },
  {
   "cell_type": "markdown",
   "id": "87ce8c84-389f-4f6f-b174-88a62728ed4e",
   "metadata": {},
   "source": [
    "# NameError Exception"
   ]
  },
  {
   "cell_type": "code",
   "execution_count": 3,
   "id": "ab213ab9-2a2d-4339-be76-4ada854637d2",
   "metadata": {},
   "outputs": [
    {
     "ename": "NameError",
     "evalue": "name 'nonexistent_variable' is not defined",
     "output_type": "error",
     "traceback": [
      "\u001b[1;31m---------------------------------------------------------------------------\u001b[0m",
      "\u001b[1;31mNameError\u001b[0m                                 Traceback (most recent call last)",
      "Cell \u001b[1;32mIn[3], line 1\u001b[0m\n\u001b[1;32m----> 1\u001b[0m \u001b[38;5;28mprint\u001b[39m(nonexistent_variable)\n",
      "\u001b[1;31mNameError\u001b[0m: name 'nonexistent_variable' is not defined"
     ]
    }
   ],
   "source": [
    "print(nonexistent_variable)"
   ]
  },
  {
   "cell_type": "code",
   "execution_count": null,
   "id": "2ca9eb75-d17a-428e-8846-0b91e98cc553",
   "metadata": {},
   "outputs": [],
   "source": []
  }
 ],
 "metadata": {
  "kernelspec": {
   "display_name": "example",
   "language": "python",
   "name": "example"
  },
  "language_info": {
   "codemirror_mode": {
    "name": "ipython",
    "version": 3
   },
   "file_extension": ".py",
   "mimetype": "text/x-python",
   "name": "python",
   "nbconvert_exporter": "python",
   "pygments_lexer": "ipython3",
   "version": "3.12.2"
  }
 },
 "nbformat": 4,
 "nbformat_minor": 5
}
