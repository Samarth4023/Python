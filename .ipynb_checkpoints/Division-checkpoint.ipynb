{
 "cells": [
  {
   "cell_type": "markdown",
   "id": "6e067f4a-aa06-4e11-9583-fa1c6fc18339",
   "metadata": {},
   "source": [
    "# Task\n",
    "### The provided code stub reads two integers,  and , from STDIN.\n",
    "### Add logic to print two lines. The first line should contain the result of integer division,  // . The second line should contain the result of float division,  / .\n",
    "### No rounding or formatting is necessary."
   ]
  },
  {
   "cell_type": "code",
   "execution_count": 4,
   "id": "44e46fa5-2164-4137-97ed-057141aab241",
   "metadata": {},
   "outputs": [
    {
     "name": "stdin",
     "output_type": "stream",
     "text": [
      "Enter the first integer:  3\n",
      "Enter the second integer:  2\n"
     ]
    },
    {
     "name": "stdout",
     "output_type": "stream",
     "text": [
      "Integer Division: 1\n",
      "Floating-Point Division: 1.5\n"
     ]
    }
   ],
   "source": [
    "# If this script is run directly (not imported as a module), execute the following code\n",
    "if __name__ == '__main__':\n",
    "    # Get input for two integers\n",
    "    a = int(input(\"Enter the first integer: \"))\n",
    "    b = int(input(\"Enter the second integer: \"))\n",
    "\n",
    "    # Perform integer division and print the result\n",
    "    print(\"Integer Division:\", a // b)\n",
    "\n",
    "    # Perform floating-point division and print the result\n",
    "    print(\"Floating-Point Division:\", float(a / b))"
   ]
  },
  {
   "cell_type": "code",
   "execution_count": null,
   "id": "8c790e23-0df4-4b5e-a2ce-54b17701017b",
   "metadata": {},
   "outputs": [],
   "source": []
  }
 ],
 "metadata": {
  "kernelspec": {
   "display_name": "example",
   "language": "python",
   "name": "example"
  },
  "language_info": {
   "codemirror_mode": {
    "name": "ipython",
    "version": 3
   },
   "file_extension": ".py",
   "mimetype": "text/x-python",
   "name": "python",
   "nbconvert_exporter": "python",
   "pygments_lexer": "ipython3",
   "version": "3.12.2"
  }
 },
 "nbformat": 4,
 "nbformat_minor": 5
}
