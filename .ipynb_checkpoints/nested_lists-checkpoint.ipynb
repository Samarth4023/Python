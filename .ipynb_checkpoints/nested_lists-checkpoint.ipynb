{
 "cells": [
  {
   "cell_type": "code",
   "execution_count": null,
   "id": "93ef3474-8076-418d-ba2e-7fd30c8f712f",
   "metadata": {},
   "outputs": [],
   "source": [
    "# Given the names and grades for each student in a class of N students, store them in a nested list and print the name(s) of any student(s) having the second lowest grade.\n",
    "\n",
    "# Note: If there are multiple students with the second lowest grade, order their names alphabetically and print each name on a new line.\n",
    "\n",
    "def find_second_lowest_grade_students():\n",
    "    students = []\n",
    "    \n",
    "    # Input number of students\n",
    "    num_students = int(input(\"Enter the number of students: \"))\n",
    "    \n",
    "    # Input student names and grades\n",
    "    for _ in range(num_students):\n",
    "        name = input(\"Enter student name: \")\n",
    "        grade = float(input(\"Enter student grade: \"))\n",
    "        students.append([name, grade])\n",
    "        print(students)\n",
    "    \n",
    "    # Extract all grades and find the unique sorted grades\n",
    "    grades = sorted({student[1] for student in students})\n",
    "    print(grades)\n",
    "    \n",
    "    # Find the second lowest grade\n",
    "    second_lowest_grade = grades[1]\n",
    "    print(second_lowest_grade)\n",
    "    \n",
    "    # Find all students with the second lowest grade\n",
    "    second_lowest_students = [student[0] for student in students if student[1] == second_lowest_grade]\n",
    "    print(second_lowest_students)\n",
    "    \n",
    "    # Sort the names alphabetically\n",
    "    second_lowest_students.sort()\n",
    "    print(second_lowest_students)\n",
    "    \n",
    "    # Print the names of the students with the second lowest grade\n",
    "    for student in second_lowest_students:\n",
    "        print(student)\n",
    "\n",
    "# Call the function\n",
    "find_second_lowest_grade_students()\n"
   ]
  }
 ],
 "metadata": {
  "kernelspec": {
   "display_name": "example",
   "language": "python",
   "name": "example"
  },
  "language_info": {
   "codemirror_mode": {
    "name": "ipython",
    "version": 3
   },
   "file_extension": ".py",
   "mimetype": "text/x-python",
   "name": "python",
   "nbconvert_exporter": "python",
   "pygments_lexer": "ipython3",
   "version": "3.12.2"
  }
 },
 "nbformat": 4,
 "nbformat_minor": 5
}
