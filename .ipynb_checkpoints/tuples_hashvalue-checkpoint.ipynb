{
 "cells": [
  {
   "cell_type": "markdown",
   "id": "fbea9ee2-6371-42c8-9c46-fdcd3cc0a8c1",
   "metadata": {},
   "source": [
    "### Given an integer, n, and n space-separated integers as input, create a tuple, , of those  integers. Then compute and print the result of hash(i).\n",
    "\n",
    "### Note: hash() is one of the functions in the __builtins__ module, so it need not be imported."
   ]
  },
  {
   "cell_type": "code",
   "execution_count": 4,
   "id": "142472a3-6385-4169-a950-a02fa2a2aee6",
   "metadata": {},
   "outputs": [
    {
     "name": "stdin",
     "output_type": "stream",
     "text": [
      "Enter the number of integers:  2\n",
      "Enter the integers separated by spaces:  1 2\n"
     ]
    },
    {
     "name": "stdout",
     "output_type": "stream",
     "text": [
      "Hash value: -3550055125485641917\n"
     ]
    }
   ],
   "source": [
    "# Read an integer from input\n",
    "n = int(input(\"Enter the number of integers: \"))\n",
    "\n",
    "# Read a list of integers from input\n",
    "integer_list = map(int, input(\"Enter the integers separated by spaces: \").split())\n",
    "\n",
    "# Create a tuple from the list of integers\n",
    "tp = tuple(integer_list)\n",
    "\n",
    "# Calculate the hash value of the tuple\n",
    "th = hash(tp)\n",
    "\n",
    "# Print the hash value\n",
    "print(\"Hash value:\", th)"
   ]
  }
 ],
 "metadata": {
  "kernelspec": {
   "display_name": "example",
   "language": "python",
   "name": "example"
  },
  "language_info": {
   "codemirror_mode": {
    "name": "ipython",
    "version": 3
   },
   "file_extension": ".py",
   "mimetype": "text/x-python",
   "name": "python",
   "nbconvert_exporter": "python",
   "pygments_lexer": "ipython3",
   "version": "3.12.2"
  }
 },
 "nbformat": 4,
 "nbformat_minor": 5
}
