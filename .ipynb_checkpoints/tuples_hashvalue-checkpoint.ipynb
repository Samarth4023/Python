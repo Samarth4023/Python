{
 "cells": [
  {
   "cell_type": "code",
   "execution_count": null,
   "id": "142472a3-6385-4169-a950-a02fa2a2aee6",
   "metadata": {},
   "outputs": [],
   "source": [
    "# Given an integer, n, and n space-separated integers as input, create a tuple, , of those  integers. Then compute and print the result of hash(i).\n",
    "\n",
    "# Note: hash() is one of the functions in the __builtins__ module, so it need not be imported.\n",
    "\n",
    "if __name__ == '__main__':\n",
    "    n = int(input())\n",
    "    integer_list = map(int, input().split())\n",
    "    tp = tuple(integer_list)\n",
    "    th = hash(tp)\n",
    "    print(th)"
   ]
  }
 ],
 "metadata": {
  "kernelspec": {
   "display_name": "example",
   "language": "python",
   "name": "example"
  },
  "language_info": {
   "codemirror_mode": {
    "name": "ipython",
    "version": 3
   },
   "file_extension": ".py",
   "mimetype": "text/x-python",
   "name": "python",
   "nbconvert_exporter": "python",
   "pygments_lexer": "ipython3",
   "version": "3.12.2"
  }
 },
 "nbformat": 4,
 "nbformat_minor": 5
}
