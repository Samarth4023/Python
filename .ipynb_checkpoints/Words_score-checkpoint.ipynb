{
 "cells": [
  {
   "cell_type": "markdown",
   "id": "4b9b72b9-5245-44ca-a1c9-f88a89fa0c28",
   "metadata": {},
   "source": [
    "Consider that vowels in the alphabet are a, e, i, o, u and y.\r\n",
    "\r\n",
    "Function score_words takes a list of lowercase words as an argument and returns a score as follows:\r\n",
    "\r\n",
    "The score of a single word is  if the word contains an even number of vowels. Otherwise, the score of this word is . The score for the whole list of words is the sum of scores of all words in the list.\r\n",
    "\r\n",
    "Debug the given function score_words such that it returns a correct score.\r\n",
    "\r\n",
    "Your function will be tested on several cases by the locked template code.\r\n",
    "\r\n",
    "Input Format\r\n",
    "\r\n",
    "The input is read by the provided locked code template. In the first line, there is a single integer  denoting the number of words. In the second line, there are  space-separated lowercase words.rcase words.rcase words."
   ]
  },
  {
   "cell_type": "code",
   "execution_count": 3,
   "id": "0d476733-b710-45b8-828a-4d848520aa03",
   "metadata": {},
   "outputs": [
    {
     "name": "stdin",
     "output_type": "stream",
     "text": [
      " 2\n",
      " hacker book\n"
     ]
    },
    {
     "name": "stdout",
     "output_type": "stream",
     "text": [
      "4\n"
     ]
    }
   ],
   "source": [
    "def is_vowel(letter):\n",
    "    return letter in ['a', 'e', 'i', 'o', 'u', 'y']\n",
    "\n",
    "def score_words(words):\n",
    "    score = 0\n",
    "    for word in words:\n",
    "        num_vowels = 0\n",
    "        for letter in word:\n",
    "            if is_vowel(letter):\n",
    "                num_vowels += 1\n",
    "        if num_vowels % 2 == 0:\n",
    "            score += 2\n",
    "        else:\n",
    "            score += 1\n",
    "    return score\n",
    "\n",
    "\n",
    "n = int(input())\n",
    "words = input().split()\n",
    "print(score_words(words))"
   ]
  }
 ],
 "metadata": {
  "kernelspec": {
   "display_name": "example",
   "language": "python",
   "name": "example"
  },
  "language_info": {
   "codemirror_mode": {
    "name": "ipython",
    "version": 3
   },
   "file_extension": ".py",
   "mimetype": "text/x-python",
   "name": "python",
   "nbconvert_exporter": "python",
   "pygments_lexer": "ipython3",
   "version": "3.12.2"
  }
 },
 "nbformat": 4,
 "nbformat_minor": 5
}
