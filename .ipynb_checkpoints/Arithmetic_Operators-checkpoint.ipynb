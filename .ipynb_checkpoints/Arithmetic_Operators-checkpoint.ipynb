{
 "cells": [
  {
   "cell_type": "markdown",
   "id": "0cd56fe7-d8e8-40d0-978e-b278220e969f",
   "metadata": {},
   "source": [
    "# Task\n",
    "### The provided code stub reads two integers from STDIN, a and b. Add code to print three lines where:\n",
    "### The first line contains the sum of the two numbers.\n",
    "### The second line contains the difference of the two numbers (first - second).\n",
    "### The third line contains the product of the two numbers.\n"
   ]
  },
  {
   "cell_type": "code",
   "execution_count": 5,
   "id": "46cdd745-e6fd-482f-8d5d-4fd090d96585",
   "metadata": {},
   "outputs": [
    {
     "name": "stdin",
     "output_type": "stream",
     "text": [
      "Enter the first integer:  3\n",
      "Enter the second integer:  2\n"
     ]
    },
    {
     "name": "stdout",
     "output_type": "stream",
     "text": [
      "Sum: 5\n",
      "Difference: 1\n",
      "Product: 6\n"
     ]
    }
   ],
   "source": [
    "# If this script is run directly (not imported as a module), execute the following code\n",
    "if __name__ == '__main__':\n",
    "    # Get input for two integers\n",
    "    a = int(input(\"Enter the first integer: \"))\n",
    "    b = int(input(\"Enter the second integer: \"))\n",
    "\n",
    "    # Perform arithmetic operations and print the results\n",
    "    print(\"Sum:\", a + b)\n",
    "    print(\"Difference:\", a - b)\n",
    "    print(\"Product:\", a * b)"
   ]
  },
  {
   "cell_type": "code",
   "execution_count": null,
   "id": "a1600135-e79f-41e3-bce2-f8180a909200",
   "metadata": {},
   "outputs": [],
   "source": []
  }
 ],
 "metadata": {
  "kernelspec": {
   "display_name": "example",
   "language": "python",
   "name": "example"
  },
  "language_info": {
   "codemirror_mode": {
    "name": "ipython",
    "version": 3
   },
   "file_extension": ".py",
   "mimetype": "text/x-python",
   "name": "python",
   "nbconvert_exporter": "python",
   "pygments_lexer": "ipython3",
   "version": "3.12.2"
  }
 },
 "nbformat": 4,
 "nbformat_minor": 5
}
