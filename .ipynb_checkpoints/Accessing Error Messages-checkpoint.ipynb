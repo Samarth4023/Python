{
 "cells": [
  {
   "cell_type": "markdown",
   "id": "a7ada90d-95d5-4241-8d0c-866a667b953a",
   "metadata": {},
   "source": [
    "# Specific Errors\n",
    "## ZeroDivisionError occurred: integer division or modulo by zero"
   ]
  },
  {
   "cell_type": "code",
   "execution_count": 15,
   "id": "7351890a-92b6-4ab3-bf7a-bc6539d13399",
   "metadata": {},
   "outputs": [
    {
     "name": "stdin",
     "output_type": "stream",
     "text": [
      "How many cookies are you baking?  9\n",
      "How many people are attending?  0\n"
     ]
    },
    {
     "name": "stdout",
     "output_type": "stream",
     "text": [
      "ZeroDivisionError occurred: integer division or modulo by zero\n"
     ]
    },
    {
     "name": "stdin",
     "output_type": "stream",
     "text": [
      "\n",
      "Would you like to party more? (y or n)  n\n"
     ]
    }
   ],
   "source": [
    "def party_planner(cookies, people):\n",
    "    leftovers = None\n",
    "    num_each = None\n",
    "    # TODO: Add a try-except block here to\n",
    "    try:\n",
    "        num_each = cookies // people\n",
    "        leftovers = cookies % people\n",
    "    except ZeroDivisionError as e:\n",
    "        print(\"ZeroDivisionError occurred: {}\".format(e))\n",
    "    return(num_each, leftovers)\n",
    "lets_party = 'y'\n",
    "while lets_party == 'y':\n",
    "    \n",
    "    cookies = int(input(\"How many cookies are you baking? \"))\n",
    "    people = int(input(\"How many people are attending? \"))\n",
    "   \n",
    "    cookies_each, leftovers = party_planner(cookies, people)\n",
    "    if cookies_each:  # if cookies_each is not None\n",
    "        message = \"\\nLet's party! We'll have {} people attending, they'll each get to eat {} cookies, and we'll have {} left over.\"\n",
    "        print(message.format(people, cookies_each, leftovers))\n",
    "\n",
    "    lets_party = input(\"\\nWould you like to party more? (y or n) \")"
   ]
  },
  {
   "cell_type": "markdown",
   "id": "aaaa4f46-3f5f-4245-b5c6-aa400c548d1f",
   "metadata": {},
   "source": [
    "# No Specific Errors\n",
    "## except Exception as e:"
   ]
  },
  {
   "cell_type": "code",
   "execution_count": 16,
   "id": "2c45c8e0-c0b4-4091-a790-fe809f3dbb2b",
   "metadata": {},
   "outputs": [
    {
     "name": "stdin",
     "output_type": "stream",
     "text": [
      "How many cookies are you baking?  9\n",
      "How many people are attending?  0\n"
     ]
    },
    {
     "name": "stdout",
     "output_type": "stream",
     "text": [
      "Exception occurred: integer division or modulo by zero\n"
     ]
    },
    {
     "name": "stdin",
     "output_type": "stream",
     "text": [
      "\n",
      "Would you like to party more? (y or n)  n\n"
     ]
    }
   ],
   "source": [
    "def party_planner(cookies, people):\n",
    "    leftovers = None\n",
    "    num_each = None\n",
    "    # TODO: Add a try-except block here to\n",
    "    try:\n",
    "        num_each = cookies // people\n",
    "        leftovers = cookies % people\n",
    "    except Exception as e:\n",
    "        print(\"Exception occurred: {}\".format(e))\n",
    "    return(num_each, leftovers)\n",
    "lets_party = 'y'\n",
    "while lets_party == 'y':\n",
    "    \n",
    "    cookies = int(input(\"How many cookies are you baking? \"))\n",
    "    people = int(input(\"How many people are attending? \"))\n",
    "   \n",
    "    cookies_each, leftovers = party_planner(cookies, people)\n",
    "    if cookies_each:  # if cookies_each is not None\n",
    "        message = \"\\nLet's party! We'll have {} people attending, they'll each get to eat {} cookies, and we'll have {} left over.\"\n",
    "        print(message.format(people, cookies_each, leftovers))\n",
    "\n",
    "    lets_party = input(\"\\nWould you like to party more? (y or n) \")"
   ]
  },
  {
   "cell_type": "code",
   "execution_count": null,
   "id": "e57a1b46-a31d-4636-95d5-c82839f854e0",
   "metadata": {},
   "outputs": [],
   "source": []
  }
 ],
 "metadata": {
  "kernelspec": {
   "display_name": "example",
   "language": "python",
   "name": "example"
  },
  "language_info": {
   "codemirror_mode": {
    "name": "ipython",
    "version": 3
   },
   "file_extension": ".py",
   "mimetype": "text/x-python",
   "name": "python",
   "nbconvert_exporter": "python",
   "pygments_lexer": "ipython3",
   "version": "3.12.2"
  }
 },
 "nbformat": 4,
 "nbformat_minor": 5
}
