{
 "cells": [
  {
   "cell_type": "code",
   "execution_count": null,
   "id": "7e7cd2b5-d56b-4951-bc84-cc63fc959aa5",
   "metadata": {},
   "outputs": [],
   "source": [
    "# Consider a list (list = []). You can perform the following commands:\n",
    "\n",
    "# insert i e: Insert integer e at position i.\n",
    "# print: Print the list.\n",
    "# remove e: Delete the first occurrence of integer e.\n",
    "# append e: Insert integer e at the end of the list.\n",
    "# sort: Sort the list.\n",
    "# pop: Pop the last element from the list.\n",
    "# reverse: Reverse the list.\n",
    "# Initialize your list and read in the value of  followed by n lines of commands where each command will be of the 7 types listed above. Iterate through each command in order and perform the corresponding operation on your list.\n",
    "\n",
    "if __name__ == '__main__':\n",
    "    N = int(input())\n",
    "\n",
    "list = []\n",
    "for _ in range(N):\n",
    "    ip = input().split()\n",
    "    \n",
    "    if ip[0] == 'print':\n",
    "        print(list)\n",
    "    elif ip[0] == 'sort':\n",
    "        list.sort()\n",
    "    elif ip[0] == 'pop':\n",
    "        list.pop()\n",
    "    elif ip[0] == 'reverse':\n",
    "        list.reverse()\n",
    "    elif ip[0] == 'insert':\n",
    "        list.insert(int((ip[1])), int((ip[2])))\n",
    "    elif ip[0] == 'append':\n",
    "        list.append(int((ip[1])))\n",
    "    elif ip[0] == 'remove':\n",
    "        list.remove(int((ip[1])))"
   ]
  }
 ],
 "metadata": {
  "kernelspec": {
   "display_name": "example",
   "language": "python",
   "name": "example"
  },
  "language_info": {
   "codemirror_mode": {
    "name": "ipython",
    "version": 3
   },
   "file_extension": ".py",
   "mimetype": "text/x-python",
   "name": "python",
   "nbconvert_exporter": "python",
   "pygments_lexer": "ipython3",
   "version": "3.12.2"
  }
 },
 "nbformat": 4,
 "nbformat_minor": 5
}
