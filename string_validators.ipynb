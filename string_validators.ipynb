{
 "cells": [
  {
   "cell_type": "markdown",
   "id": "48449fb2-b7dd-40ab-82db-246bdf96b4df",
   "metadata": {},
   "source": [
    "# Task\n",
    "### You are given a string s.\n",
    "### Your task is to find out if the string s contains: alphanumeric characters, alphabetical characters, digits, lowercase and uppercase characters.\n",
    "### Input Format:\n",
    "### A single line containing a string s."
   ]
  },
  {
   "cell_type": "code",
   "execution_count": 2,
   "id": "3e663738-f4d1-404c-904c-dda7ccda580c",
   "metadata": {},
   "outputs": [
    {
     "name": "stdin",
     "output_type": "stream",
     "text": [
      " q4A\n"
     ]
    },
    {
     "name": "stdout",
     "output_type": "stream",
     "text": [
      "True\n",
      "True\n",
      "True\n",
      "True\n",
      "True\n"
     ]
    }
   ],
   "source": [
    "if __name__ == '__main__':\n",
    "    # Get input from the user\n",
    "    s = input()\n",
    "\n",
    "    # Check if the input contains alphanumeric characters\n",
    "    alphanumeric = any(char.isalnum() for char in s)\n",
    "\n",
    "    # Check if the input contains alphabetical characters\n",
    "    alphabetical = any(char.isalpha() for char in s)\n",
    "\n",
    "    # Check if the input contains digits\n",
    "    digits = any(char.isdigit() for char in s)\n",
    "\n",
    "    # Check if the input contains lowercase letters\n",
    "    lowercase = any(char.islower() for char in s)\n",
    "\n",
    "    # Check if the input contains uppercase letters\n",
    "    uppercase = any(char.isupper() for char in s)\n",
    "    \n",
    "    # Print the results\n",
    "    print(alphanumeric)  # True if alphanumeric characters are present, False otherwise\n",
    "    print(alphabetical)  # True if alphabetical characters are present, False otherwise\n",
    "    print(digits)  # True if digits are present, False otherwise\n",
    "    print(lowercase)  # True if lowercase letters are present, False otherwise\n",
    "    print(uppercase)  # True if uppercase letters are present, False otherwise"
   ]
  }
 ],
 "metadata": {
  "kernelspec": {
   "display_name": "example",
   "language": "python",
   "name": "example"
  },
  "language_info": {
   "codemirror_mode": {
    "name": "ipython",
    "version": 3
   },
   "file_extension": ".py",
   "mimetype": "text/x-python",
   "name": "python",
   "nbconvert_exporter": "python",
   "pygments_lexer": "ipython3",
   "version": "3.12.2"
  }
 },
 "nbformat": 4,
 "nbformat_minor": 5
}
