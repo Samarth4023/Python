{
 "cells": [
  {
   "cell_type": "code",
   "execution_count": null,
   "id": "f6b2f2d2-a478-4712-a145-ad6c97fed6dc",
   "metadata": {},
   "outputs": [],
   "source": [
    "# There is an array of n integers. There are also 2 disjoint sets, A and B, each containing m integers. You like all the integers in set A and dislike all the integers in set B. Your initial happiness is 0. For each i integer in the array, if i e B, you add -1 to your happiness. If , you add  to your happiness. Otherwise, your happiness does not change. Output your final happiness at the end.\n",
    "\n",
    "# Note: Since A and B are sets, they have no repeated elements. However, the array might contain duplicate elements.\n",
    "\n",
    "# Input Format\n",
    "\n",
    "# The first line contains integers n and m separated by a space.\n",
    "# The second line contains n integers, the elements of the array.\n",
    "# The third and fourth lines contain m integers, A and ,B respectively.\n",
    "\n",
    "# Enter your code here. Read input from STDIN. Print output to STDOUT\n",
    "n, m = map(int, input().split())\n",
    "arr = list(map(int, input().split()))\n",
    "set_A = set(map(int, input().split()))\n",
    "set_B = set(map(int, input().split()))\n",
    "ini_happ = 0\n",
    "for x in arr:\n",
    "    if x in set_A:\n",
    "        ini_happ = ini_happ + 1\n",
    "    elif x in set_B:\n",
    "        ini_happ = ini_happ - 1\n",
    "    else:\n",
    "        pass\n",
    "print(ini_happ)\n"
   ]
  }
 ],
 "metadata": {
  "kernelspec": {
   "display_name": "example",
   "language": "python",
   "name": "example"
  },
  "language_info": {
   "codemirror_mode": {
    "name": "ipython",
    "version": 3
   },
   "file_extension": ".py",
   "mimetype": "text/x-python",
   "name": "python",
   "nbconvert_exporter": "python",
   "pygments_lexer": "ipython3",
   "version": "3.12.2"
  }
 },
 "nbformat": 4,
 "nbformat_minor": 5
}
