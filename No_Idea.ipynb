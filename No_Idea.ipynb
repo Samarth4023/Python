{
 "cells": [
  {
   "cell_type": "markdown",
   "id": "ee1f87de-69d2-492a-a50b-1013fe703ab1",
   "metadata": {},
   "source": [
    "# There is an array of n integers. There are also 2 disjoint sets, A and B, each containing m integers. You like all the integers in set A and dislike all the integers in set B. Your initial happiness is 0. For each i integer in the array, if i e B, you add -1 to your happiness. If , you add  to your happiness. Otherwise, your happiness does not change. Output your final happiness at the end.\r\n",
    "\r\n",
    "# Note: Since A and B are sets, they have no repeated elements. However, the array might contain duplicate elements.\r\n",
    "\r\n",
    "# Input Format\r\n",
    "\r\n",
    "# The first line contains integers n and m separated by a space.\r\n",
    "# The second line contains n integers, the elements of the array.\r\n",
    "# The third and fourth lines contain m integers, A and ,B respectively.\r\n",
    "# Enter your code here. Read input from STDIN. Print output to STDOUT. to STDOUT"
   ]
  },
  {
   "cell_type": "code",
   "execution_count": 5,
   "id": "0eb15c9d-fd95-42d4-a1a5-da9eea9e8b32",
   "metadata": {
    "jp-MarkdownHeadingCollapsed": true
   },
   "outputs": [
    {
     "name": "stdin",
     "output_type": "stream",
     "text": [
      " 3 2\n",
      " 1 5 3\n",
      " 3 1\n",
      " 5 7\n"
     ]
    },
    {
     "name": "stdout",
     "output_type": "stream",
     "text": [
      "1\n"
     ]
    }
   ],
   "source": [
    "### Read integers n (number of elements in the array) and m (size of sets A and B)\n",
    "n, m = map(int, input().split())\n",
    "\n",
    "# Read the elements of the array\n",
    "arr = list(map(int, input().split()))\n",
    "\n",
    "# Read the elements of set A\n",
    "set_A = set(map(int, input().split()))\n",
    "\n",
    "# Read the elements of set B\n",
    "set_B = set(map(int, input().split()))\n",
    "\n",
    "# Initialize happiness score to zero\n",
    "ini_happ = 0\n",
    "\n",
    "# Iterate over each element in the array\n",
    "for x in arr:\n",
    "    # If the element is in set A, increase happiness\n",
    "    if x in set_A:\n",
    "        ini_happ += 1\n",
    "    # If the element is in set B, decrease happiness\n",
    "    elif x in set_B:\n",
    "        ini_happ -= 1\n",
    "\n",
    "# Print the final happiness score\n",
    "print(ini_happ)"
   ]
  }
 ],
 "metadata": {
  "kernelspec": {
   "display_name": "example",
   "language": "python",
   "name": "example"
  },
  "language_info": {
   "codemirror_mode": {
    "name": "ipython",
    "version": 3
   },
   "file_extension": ".py",
   "mimetype": "text/x-python",
   "name": "python",
   "nbconvert_exporter": "python",
   "pygments_lexer": "ipython3",
   "version": "3.12.2"
  }
 },
 "nbformat": 4,
 "nbformat_minor": 5
}
