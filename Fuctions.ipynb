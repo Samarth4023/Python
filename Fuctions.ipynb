{
 "cells": [
  {
   "cell_type": "markdown",
   "id": "3a044168-3010-4888-ab26-c31ea793b913",
   "metadata": {},
   "source": [
    "# Functions"
   ]
  },
  {
   "cell_type": "markdown",
   "id": "7e9b48da-1af8-4a48-a2de-1d833c6d7ee4",
   "metadata": {},
   "source": [
    "## - Functions are useful chunks of code that allow us to encapsulate a task.\n",
    "## * Encapsulation is a way to carry out a whole series of steps with one simple command.\n",
    "## - Functions are also used in to help organzie and optimize code."
   ]
  },
  {
   "cell_type": "code",
   "execution_count": null,
   "id": "b9c35be9-ae47-4eb9-bf99-60298865db83",
   "metadata": {},
   "outputs": [],
   "source": []
  },
  {
   "cell_type": "code",
   "execution_count": 5,
   "id": "e831114a-bb54-416b-95e5-057e130b016b",
   "metadata": {},
   "outputs": [
    {
     "data": {
      "text/plain": [
       "282.7431"
      ]
     },
     "execution_count": 5,
     "metadata": {},
     "output_type": "execute_result"
    }
   ],
   "source": [
    "# Defining Functions\n",
    "def cylinder_volume(height, radius):\n",
    "    pi = 3.14159\n",
    "    return height * pi * radius ** 2\n",
    "cylinder_volume(10, 3)"
   ]
  },
  {
   "cell_type": "markdown",
   "id": "295b6a51-509f-4fc7-9df0-4c56357c90d3",
   "metadata": {},
   "source": [
    "### with no arguments"
   ]
  },
  {
   "cell_type": "code",
   "execution_count": null,
   "id": "9c6b0f4a-5a77-4145-8ce5-783dda447dd5",
   "metadata": {},
   "outputs": [],
   "source": []
  }
 ],
 "metadata": {
  "kernelspec": {
   "display_name": "example",
   "language": "python",
   "name": "example"
  },
  "language_info": {
   "codemirror_mode": {
    "name": "ipython",
    "version": 3
   },
   "file_extension": ".py",
   "mimetype": "text/x-python",
   "name": "python",
   "nbconvert_exporter": "python",
   "pygments_lexer": "ipython3",
   "version": "3.12.2"
  }
 },
 "nbformat": 4,
 "nbformat_minor": 5
}
