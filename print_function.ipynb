{
 "cells": [
  {
   "cell_type": "markdown",
   "id": "e296046f-b7c3-4cc9-a935-77d3f8d074f8",
   "metadata": {},
   "source": [
    "### The included code stub will read an integer, n, from STDIN.\n",
    "### Without using any string methods, try to print the following: 123....n\n",
    "### Note that \"....\" represents the consecutive values in between.\n",
    "### Example: n = 5\n",
    "### Print the string 12345."
   ]
  },
  {
   "cell_type": "code",
   "execution_count": 4,
   "id": "baaf4ea5-4b02-408d-a879-0123803fb70b",
   "metadata": {},
   "outputs": [
    {
     "name": "stdin",
     "output_type": "stream",
     "text": [
      " 5\n"
     ]
    },
    {
     "name": "stdout",
     "output_type": "stream",
     "text": [
      "12345"
     ]
    }
   ],
   "source": [
    "# Entry point of the script\n",
    "if __name__ == '__main__':\n",
    "    # Read an integer input from the user\n",
    "    n = int(input())\n",
    "    \n",
    "# Loop from 1 to n (inclusive)\n",
    "for i in range(1, n+1):\n",
    "    # Print the current number followed by a space, without moving to a new line\n",
    "    print(i, end='')"
   ]
  },
  {
   "cell_type": "code",
   "execution_count": null,
   "id": "5f5004ff-b2f4-4881-9be0-c0f8ad539ba5",
   "metadata": {},
   "outputs": [],
   "source": []
  }
 ],
 "metadata": {
  "kernelspec": {
   "display_name": "example",
   "language": "python",
   "name": "example"
  },
  "language_info": {
   "codemirror_mode": {
    "name": "ipython",
    "version": 3
   },
   "file_extension": ".py",
   "mimetype": "text/x-python",
   "name": "python",
   "nbconvert_exporter": "python",
   "pygments_lexer": "ipython3",
   "version": "3.12.2"
  }
 },
 "nbformat": 4,
 "nbformat_minor": 5
}
