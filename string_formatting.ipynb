{
 "cells": [
  {
   "cell_type": "code",
   "execution_count": null,
   "id": "243a5d97-3e04-411a-a0d4-1710a6da1889",
   "metadata": {},
   "outputs": [],
   "source": [
    "# Given an integer, n, print the following values for each integer i from 1 to n:\n",
    "# Decimal\n",
    "# Octal\n",
    "# Hexadecimal (capitalized)\n",
    "# Binary\n",
    "\n",
    "# Function Description\n",
    "# Complete the print_formatted function in the editor below.\n",
    "# print_formatted has the following parameters:\n",
    "# int number: the maximum value to print\n",
    "# Prints\n",
    "# The four values must be printed on a single line in the order specified above for each i from 1 to number. Each value should be space-padded to match the width of the binary value of number and the values should be separated by a single space.\n",
    "\n",
    "# Input Format\n",
    "# A single integer denoting .\n",
    "\n",
    "def print_formatted(number):\n",
    "    # your code goes here\n",
    "    if 1 <= n <= 99:\n",
    "        for i in range(1, n+1):\n",
    "            a = i\n",
    "            b = oct(i)\n",
    "            c = bin(i)\n",
    "            d = hex(i)\n",
    "            A = str(a)\n",
    "            B = str(b)[2:]\n",
    "            C = str(c)[2:]\n",
    "            D = str(d)[2:].upper()\n",
    "            print(A.ljust(4) + B.ljust(4) + D.ljust(4) + C.rjust(1))\n",
    "    else:\n",
    "        print('Please enter value <= 99')\n",
    "\n",
    "if __name__ == '__main__':\n",
    "    n = int(input())\n",
    "    print_formatted(n)"
   ]
  }
 ],
 "metadata": {
  "kernelspec": {
   "display_name": "example",
   "language": "python",
   "name": "example"
  },
  "language_info": {
   "codemirror_mode": {
    "name": "ipython",
    "version": 3
   },
   "file_extension": ".py",
   "mimetype": "text/x-python",
   "name": "python",
   "nbconvert_exporter": "python",
   "pygments_lexer": "ipython3",
   "version": "3.12.2"
  }
 },
 "nbformat": 4,
 "nbformat_minor": 5
}
