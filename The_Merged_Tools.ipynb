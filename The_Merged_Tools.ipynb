{
 "cells": [
  {
   "cell_type": "code",
   "execution_count": null,
   "id": "f6a9bf57-b622-4496-8096-896636d7c7e7",
   "metadata": {},
   "outputs": [],
   "source": [
    "# Complete the merge_the_tools function in the editor below.\n",
    "# merge_the_tools has the following parameters:\n",
    "# string s: the string to analyze\n",
    "# int k: the size of substrings to analyze\n",
    "# Prints\n",
    "# Print each subsequence on a new line. There will be n/k of them. No return value is expected.\n",
    "# Input Format\n",
    "# The first line contains a single string, s.\n",
    "# The second line contains an integer, k, the length of each substring.\n",
    "\n",
    "def merge_the_tools(string, k):\n",
    "    for i in range(0, len(string), k):\n",
    "        s = string[i: i+k]\n",
    "        result = ''\n",
    "        dic = {}\n",
    "        for c in s:\n",
    "            dic[c] = 1 + dic.get(c, 0)\n",
    "            if dic[c] == 1:\n",
    "                result += c\n",
    "        print(result)\n",
    "if __name__ == '__main__':\n",
    "    string, k = input(), int(input())\n",
    "    merge_the_tools(string, k)"
   ]
  }
 ],
 "metadata": {
  "kernelspec": {
   "display_name": "example",
   "language": "python",
   "name": "example"
  },
  "language_info": {
   "codemirror_mode": {
    "name": "ipython",
    "version": 3
   },
   "file_extension": ".py",
   "mimetype": "text/x-python",
   "name": "python",
   "nbconvert_exporter": "python",
   "pygments_lexer": "ipython3",
   "version": "3.12.2"
  }
 },
 "nbformat": 4,
 "nbformat_minor": 5
}
