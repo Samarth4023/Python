{
 "cells": [
  {
   "cell_type": "markdown",
   "id": "c92198ba-c37b-4f08-8e95-058fad62b501",
   "metadata": {},
   "source": [
    "#### You are asked to ensure that the first and last names of people begin with a capital letter in their passports. For example, alison heck should be capitalised correctly as Alison Heck.\n",
    "\n",
    "#### Given a full name, your task is to capitalize the name appropriately.\n",
    "#### Input Format\n",
    "#### A single line of input containing the full name, S."
   ]
  },
  {
   "cell_type": "code",
   "execution_count": null,
   "id": "ebaad939-56a5-4ee0-9f60-43722e5c0f0b",
   "metadata": {
    "scrolled": true
   },
   "outputs": [],
   "source": [
    "#!/bin/python3  # Specifies the interpreter to be used for the script\n",
    "import math  # Importing the math module, though it's not used in this script\n",
    "import os  # Importing the os module to handle environment variables and file operations\n",
    "import random  # Importing the random module, though it's not used in this script\n",
    "import re  # Importing the re module for regular expressions, though it's not used in this script\n",
    "import sys  # Importing the sys module, though it's not used in this script\n",
    "\n",
    "# Complete the solve function below.\n",
    "def solve(s):\n",
    "    # Initialize an empty list to store the capitalized words\n",
    "    words = []\n",
    "    # Split the input string 's' into a list of words using space as the delimiter\n",
    "    spl = s.split(\" \")\n",
    "    # Iterate over each word in the list\n",
    "    for i in spl:\n",
    "        # Capitalize the first letter of the word and append it to the 'words' list\n",
    "        words.append(i.capitalize())\n",
    "    # Join the list of capitalized words into a single string with spaces in between\n",
    "    done = \" \".join(words)\n",
    "    # Return the final capitalized string\n",
    "    return done\n",
    "\n",
    "if __name__ == '__main__':\n",
    "    # Open a file for writing, specified by the OUTPUT_PATH environment variable\n",
    "    fptr = open(os.environ['OUTPUT_PATH'], 'w')\n",
    "\n",
    "    # Read the input string from standard input\n",
    "    s = input()\n",
    "\n",
    "    # Call the solve function and store the result\n",
    "    result = solve(s)\n",
    "\n",
    "    # Write the result to the file\n",
    "    fptr.write(result + '\\n')\n",
    "\n",
    "    # Close the file\n",
    "    fptr.close() "
   ]
  }
 ],
 "metadata": {
  "kernelspec": {
   "display_name": "example",
   "language": "python",
   "name": "example"
  },
  "language_info": {
   "codemirror_mode": {
    "name": "ipython",
    "version": 3
   },
   "file_extension": ".py",
   "mimetype": "text/x-python",
   "name": "python",
   "nbconvert_exporter": "python",
   "pygments_lexer": "ipython3",
   "version": "3.12.2"
  }
 },
 "nbformat": 4,
 "nbformat_minor": 5
}
