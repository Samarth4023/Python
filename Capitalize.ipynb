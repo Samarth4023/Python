{
 "cells": [
  {
   "cell_type": "code",
   "execution_count": null,
   "id": "e4cf44ec-cae6-4df2-8a6e-a7eb9b660556",
   "metadata": {},
   "outputs": [],
   "source": [
    "# You are asked to ensure that the first and last names of people begin with a capital letter in their passports. For example, alison heck should be capitalised correctly as Alison Heck.\n",
    "\n",
    "# Given a full name, your task is to capitalize the name appropriately.\n",
    "# Input Format\n",
    "# A single line of input containing the full name, S.\n",
    "\n",
    "\n",
    "\n",
    "#!/bin/python3\n",
    "import math\n",
    "import os\n",
    "import random\n",
    "import re\n",
    "import sys\n",
    "\n",
    "# Complete the solve function below.\n",
    "def solve(s):\n",
    "    words = []\n",
    "    spl = s.split(\" \")\n",
    "    for i in spl:\n",
    "        words.append(i.capitalize())\n",
    "    done = \" \".join(words)\n",
    "    return done\n",
    "if __name__ == '__main__':\n",
    "    fptr = open(os.environ['OUTPUT_PATH'], 'w')\n",
    "\n",
    "    s = input()\n",
    "\n",
    "    result = solve(s)\n",
    "\n",
    "    fptr.write(result + '\\n')\n",
    "\n",
    "    fptr.close()\n"
   ]
  }
 ],
 "metadata": {
  "kernelspec": {
   "display_name": "example",
   "language": "python",
   "name": "example"
  },
  "language_info": {
   "codemirror_mode": {
    "name": "ipython",
    "version": 3
   },
   "file_extension": ".py",
   "mimetype": "text/x-python",
   "name": "python",
   "nbconvert_exporter": "python",
   "pygments_lexer": "ipython3",
   "version": "3.12.2"
  }
 },
 "nbformat": 4,
 "nbformat_minor": 5
}
