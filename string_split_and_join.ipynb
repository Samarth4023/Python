{
 "cells": [
  {
   "cell_type": "markdown",
   "id": "14bc84ec-d592-440d-a698-60e542653bc3",
   "metadata": {},
   "source": [
    "# Task\n",
    "### You are given a string. Split the string on a \" \" (space) delimiter and join using a - hyphen.\n",
    "### Function Description\n",
    "### Complete the split_and_join function in the editor below.\n",
    "### split_and_join has the following parameters:\n",
    "### string line: a string of space-separated words\n",
    "### Returns\n",
    "### string: the resulting string"
   ]
  },
  {
   "cell_type": "code",
   "execution_count": 2,
   "id": "92edd910-78a8-4f7a-b026-4a892fa7f189",
   "metadata": {},
   "outputs": [
    {
     "name": "stdin",
     "output_type": "stream",
     "text": [
      " My Name is Samarth Pujari!\n"
     ]
    },
    {
     "name": "stdout",
     "output_type": "stream",
     "text": [
      "My-Name-is-Samarth-Pujari!\n"
     ]
    }
   ],
   "source": [
    "def split_and_join(line):\n",
    "    # Split the input line into a list of words using space as the separator\n",
    "    line = line.split(\" \")\n",
    "    \n",
    "    # Join the list of words using hyphen as the separator\n",
    "    line = \"-\".join(line)\n",
    "    \n",
    "    return line\n",
    "\n",
    "if __name__ == '__main__':\n",
    "    # Take user input\n",
    "    line = input()\n",
    "    \n",
    "    # Call the split_and_join function and store the result\n",
    "    result = split_and_join(line)\n",
    "    \n",
    "    # Print the result\n",
    "    print(result)"
   ]
  }
 ],
 "metadata": {
  "kernelspec": {
   "display_name": "example",
   "language": "python",
   "name": "example"
  },
  "language_info": {
   "codemirror_mode": {
    "name": "ipython",
    "version": 3
   },
   "file_extension": ".py",
   "mimetype": "text/x-python",
   "name": "python",
   "nbconvert_exporter": "python",
   "pygments_lexer": "ipython3",
   "version": "3.12.2"
  }
 },
 "nbformat": 4,
 "nbformat_minor": 5
}
