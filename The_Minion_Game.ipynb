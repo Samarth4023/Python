{
 "cells": [
  {
   "cell_type": "markdown",
   "id": "47d75eb5-4228-41c5-9613-8d667ca03fb7",
   "metadata": {},
   "source": [
    "#### Kevin and Stuart want to play the 'The Minion Game'.\n",
    "#### Game Rules\n",
    "#### Both players are given the same string, S.\n",
    "#### Both players have to make substrings using the letters of the string S.\n",
    "#### Stuart has to make words starting with consonants.\n",
    "#### Kevin has to make words starting with vowels.\n",
    "#### The game ends when both players have made all possible substrings.\n",
    "#### Scoring\n",
    "#### A player gets +1 point for each occurrence of the substring in the string S."
   ]
  },
  {
   "cell_type": "code",
   "execution_count": 2,
   "id": "eb91a39b-da02-4a6c-83b9-0b9fb0cdace5",
   "metadata": {},
   "outputs": [
    {
     "name": "stdin",
     "output_type": "stream",
     "text": [
      " BANANA\n"
     ]
    },
    {
     "name": "stdout",
     "output_type": "stream",
     "text": [
      "Stuart 12\n"
     ]
    }
   ],
   "source": [
    "def minion_game(string):\n",
    "    # Define vowels\n",
    "    vowels = 'AEOUI'\n",
    "    \n",
    "    # Get the length of the input string\n",
    "    N = len(string)\n",
    "    \n",
    "    # Initialize scores for Kevin and Stuart\n",
    "    score_k = 0\n",
    "    score_s = 0\n",
    "    \n",
    "    # Iterate through each character in the string\n",
    "    for i in range(N):\n",
    "        # If the character is a vowel, it contributes to Kevin's score\n",
    "        if string[i] in vowels:\n",
    "            score_k += N - i\n",
    "        # If the character is a consonant, it contributes to Stuart's score\n",
    "        else:\n",
    "            score_s += N - i\n",
    "    \n",
    "    # Determine the winner or if it's a draw and print the result\n",
    "    if score_k > score_s:\n",
    "        print(f\"Kevin {score_k}\")\n",
    "    elif score_k < score_s:\n",
    "        print(f\"Stuart {score_s}\")\n",
    "    else:\n",
    "        print('Draw')\n",
    "\n",
    "# Main block to execute the function\n",
    "if __name__ == '__main__':\n",
    "    # Take input string from the user\n",
    "    s = input()\n",
    "    # Call the minion_game function with the input string\n",
    "    minion_game(s)"
   ]
  }
 ],
 "metadata": {
  "kernelspec": {
   "display_name": "example",
   "language": "python",
   "name": "example"
  },
  "language_info": {
   "codemirror_mode": {
    "name": "ipython",
    "version": 3
   },
   "file_extension": ".py",
   "mimetype": "text/x-python",
   "name": "python",
   "nbconvert_exporter": "python",
   "pygments_lexer": "ipython3",
   "version": "3.12.2"
  }
 },
 "nbformat": 4,
 "nbformat_minor": 5
}
